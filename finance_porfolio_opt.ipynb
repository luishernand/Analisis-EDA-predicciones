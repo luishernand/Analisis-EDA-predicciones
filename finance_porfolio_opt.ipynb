{
  "nbformat": 4,
  "nbformat_minor": 0,
  "metadata": {
    "colab": {
      "name": "finance_porfolio_opt.ipynb",
      "provenance": [],
      "private_outputs": true,
      "collapsed_sections": [],
      "authorship_tag": "ABX9TyPRvSOVVqIDIoe0IpCO4HVe",
      "include_colab_link": true
    },
    "kernelspec": {
      "name": "python3",
      "display_name": "Python 3"
    }
  },
  "cells": [
    {
      "cell_type": "markdown",
      "metadata": {
        "id": "view-in-github",
        "colab_type": "text"
      },
      "source": [
        "<a href=\"https://colab.research.google.com/github/luishernand/Analisis-_EDA_predictions/blob/master/finance_porfolio_opt.ipynb\" target=\"_parent\"><img src=\"https://colab.research.google.com/assets/colab-badge.svg\" alt=\"Open In Colab\"/></a>"
      ]
    },
    {
      "cell_type": "markdown",
      "metadata": {
        "id": "p3f36mFQi61z",
        "colab_type": "text"
      },
      "source": [
        "<img src=\"https://github.com/luishernand/pandas_fundamentals/blob/master/logo4.JPG?raw=true\" >  \n",
        "\n",
        "**Instructor:** [Computer Science](http://everythingcomputerscience.com/)  \n",
        "**Descripción:** optimizador de cartera\n",
        "\n",
        "|Email|Fecha|\n",
        "|-----|-----|\n",
        "|luishernandezmatos@yahoo.com|25 de mayo 2020|"
      ]
    },
    {
      "cell_type": "code",
      "metadata": {
        "id": "VLZXrRt5iz3F",
        "colab_type": "code",
        "colab": {}
      },
      "source": [
        "from IPython.display import YouTubeVideo\n",
        "YouTubeVideo('9fjs8FeLMJk')"
      ],
      "execution_count": 0,
      "outputs": []
    },
    {
      "cell_type": "markdown",
      "metadata": {
        "id": "lza0Vsrsi3ib",
        "colab_type": "text"
      },
      "source": [
        "# Finance Portfolio Optimization"
      ]
    },
    {
      "cell_type": "markdown",
      "metadata": {
        "id": "nSzCv3mGjcLX",
        "colab_type": "text"
      },
      "source": [
        "La optimización de la cartera es el proceso de seleccionar la mejor cartera ( distribución de activos ), fuera del conjunto de todas las carteras consideradas, de acuerdo con algún objetivo. El objetivo generalmente maximiza factores como el rendimiento esperado y minimiza costos como el riesgo financiero . Los factores que se consideran pueden variar desde tangibles (como activos , pasivos , ganancias u otros fundamentos ) hasta intangibles (como desinversiones selectivas )"
      ]
    },
    {
      "cell_type": "code",
      "metadata": {
        "id": "uPMRRtM3i2jx",
        "colab_type": "code",
        "colab": {}
      },
      "source": [
        "import pandas as pd\n",
        "import numpy as np\n",
        "import matplotlib.pyplot as plt\n",
        "import seaborn as sns \n",
        "%matplotlib inline\n",
        "from datetime import datetime\n",
        "from pandas_datareader import data as web\n",
        "from IPython.display import YouTubeVideo"
      ],
      "execution_count": 0,
      "outputs": []
    },
    {
      "cell_type": "code",
      "metadata": {
        "id": "duYfglaYjj3H",
        "colab_type": "code",
        "colab": {}
      },
      "source": [
        "assets = ['FB', 'AMZN', 'AAPL', 'NFLX', 'GOOG']\n",
        "#asignar pesos a las carteras\n",
        "weights = np.array([0.2,0.2,0.2,0.2,0.2])\n",
        "stock_startdate = '2013-01-01'\n",
        "hoy = datetime.today().strftime('%Y-%m-%d')"
      ],
      "execution_count": 0,
      "outputs": []
    },
    {
      "cell_type": "markdown",
      "metadata": {
        "id": "XkQXNSWXjqrA",
        "colab_type": "text"
      },
      "source": [
        "### Cargar los datos"
      ]
    },
    {
      "cell_type": "code",
      "metadata": {
        "id": "7Z4EA2FXjnHP",
        "colab_type": "code",
        "colab": {}
      },
      "source": [
        "df = pd.DataFrame()\n",
        "for stock in assets:\n",
        " df[stock] = web.DataReader(stock, data_source='yahoo', start=stock_startdate ,\n",
        "                            end = hoy)['Adj Close']"
      ],
      "execution_count": 0,
      "outputs": []
    },
    {
      "cell_type": "code",
      "metadata": {
        "id": "pKvOIjX-jwYT",
        "colab_type": "code",
        "colab": {}
      },
      "source": [
        "df.head()"
      ],
      "execution_count": 0,
      "outputs": []
    },
    {
      "cell_type": "code",
      "metadata": {
        "id": "AceDQxZSjy1b",
        "colab_type": "code",
        "colab": {}
      },
      "source": [
        "df.tail()"
      ],
      "execution_count": 0,
      "outputs": []
    },
    {
      "cell_type": "markdown",
      "metadata": {
        "id": "XjkG9ar9j2in",
        "colab_type": "text"
      },
      "source": [
        "### Visualizar los datos"
      ]
    },
    {
      "cell_type": "code",
      "metadata": {
        "id": "OVLPbxGHj0hh",
        "colab_type": "code",
        "colab": {}
      },
      "source": [
        "df.plot(figsize=(12.5, 4.5))\n",
        "plt.title('Portfolio Adj close history price', size = 20)\n",
        "plt.ylabel('Precio de cierre en USD$', size = 12)\n",
        "plt.show()"
      ],
      "execution_count": 0,
      "outputs": []
    },
    {
      "cell_type": "markdown",
      "metadata": {
        "id": "lySUfCJ2kByE",
        "colab_type": "text"
      },
      "source": [
        "### Correlaciones y evaluación de riesgos \n",
        "---  \n",
        "\n",
        "Diferentes enfoques para la optimización de la cartera miden el riesgo de manera diferente. Además de la medida tradicional, la desviación estándar o su cuadrado ( varianza ), que no son medidas de riesgo sólidas , otras medidas incluyen la relación de Sortino , CVaR (valor condicional en riesgo) y la dispersión estadística .  \n",
        "\n",
        "La inversión es una actividad prospectiva y, por lo tanto, las covarianzas de los rendimientos deben pronosticarse en lugar de observarse.  \n",
        "\n",
        "La optimización de la cartera supone que el inversor puede tener cierta aversión al riesgo y que los precios de las acciones pueden presentar diferencias significativas entre sus valores históricos o pronosticados y lo experimentado. En particular, las crisis financieras se caracterizan por un aumento significativo en la correlación de los movimientos del precio de las acciones que pueden degradar seriamente los beneficios de la diversificación.    \n",
        "\n",
        "En un marco de optimización de varianza media, la estimación precisa de la matriz de varianza-covarianza es primordial. Las técnicas cuantitativas que utilizan la simulación de Montecarlo con la cópula gaussiana y las distribuciones marginales bien especificadas son efectivas.  Permitir que el proceso de modelado permita características empíricas en los rendimientos de las existencias, como la autorregresión , la volatilidad asimétrica, la asimetría y la curtosis es importante. No tener en cuenta estos atributos puede conducir a un error grave de estimación en las correlaciones, variaciones y covarianzas que tienen sesgos negativos (hasta un 70% de los valores verdaderos).   \n",
        "\n",
        "Otras estrategias de optimización que se centran en minimizar el riesgo de cola (por ejemplo, valor en riesgo , valor condicional en riesgo ) en las carteras de inversión son populares entre los inversores adversos al riesgo. Para minimizar la exposición al riesgo de cola, los pronósticos de rendimiento de activos utilizando la simulación de Montecarlo con cópulas de vid para permitir una menor dependencia de cola (izquierda) (por ejemplo, Clayton, Gumbel rotado) en grandes carteras de activos son los más adecuados.   \n",
        "\n",
        "Más recientemente, los administradores de fondos de cobertura han estado aplicando una \"optimización a gran escala\" mediante la cual cualquier función de utilidad del inversor se puede utilizar para optimizar una cartera.  Se afirma que dicha metodología es más práctica y adecuada para los inversores modernos cuyas preferencias de riesgo implican reducir el riesgo de cola , minimizando la asimetría negativa y las colas gruesas en la distribución de los rendimientos de la cartera de inversiones. Cuando dichas metodologías implican el uso de funciones de utilidad de momento superior, es necesario utilizar una metodología que permita pronosticar una distribución conjuntaeso explica la dependencia asimétrica. Una metodología adecuada que permite que la distribución conjunta incorpore dependencia asimétrica es la Clayula Canonical Vine Copula. Ver Cópula (teoría de la probabilidad) # Finanzas cuantitativas .  \n",
        "\n",
        "### Cooperación en optimización de cartera   \n",
        "\n",
        "Un grupo de inversores, en lugar de invertir individualmente, puede optar por invertir su capital total en la cartera conjunta, y luego dividir el beneficio de inversión (incierto) de la manera que mejor se adapte a sus preferencias de utilidad / riesgo. Resulta que, al menos en el modelo de utilidad esperado,  y el modelo de desviación media,  cada inversionista generalmente puede obtener una participación que valora estrictamente más que su cartera óptima de la inversión individual."
      ]
    },
    {
      "cell_type": "markdown",
      "metadata": {
        "id": "0trvuuTxkGjY",
        "colab_type": "text"
      },
      "source": [
        "---\n",
        "### Análisis_de forma manual"
      ]
    },
    {
      "cell_type": "code",
      "metadata": {
        "id": "JFCYlnvbj78C",
        "colab_type": "code",
        "colab": {}
      },
      "source": [
        "#retorno diario simple\n",
        "returns = df.pct_change()\n",
        "returns"
      ],
      "execution_count": 0,
      "outputs": []
    },
    {
      "cell_type": "code",
      "metadata": {
        "id": "idjnXWcUkaG9",
        "colab_type": "code",
        "colab": {}
      },
      "source": [
        "# matriz de covarianza anual\n",
        "cov_mtx_anual = returns.cov()*252\n",
        "cov_mtx_anual"
      ],
      "execution_count": 0,
      "outputs": []
    },
    {
      "cell_type": "code",
      "metadata": {
        "id": "czqsfAyokXrQ",
        "colab_type": "code",
        "colab": {}
      },
      "source": [
        "# calculo de la cartera_varianza\n",
        "port_var = np.dot(weights.T, np.dot(cov_mtx_anual, weights))\n",
        "port_var"
      ],
      "execution_count": 0,
      "outputs": []
    },
    {
      "cell_type": "code",
      "metadata": {
        "id": "7pEa_YA2kiZF",
        "colab_type": "code",
        "colab": {}
      },
      "source": [
        "#calculo de la volatividad o la desviación estadar\n",
        "port_volatibidad = np.sqrt(port_var)\n",
        "port_volatibidad"
      ],
      "execution_count": 0,
      "outputs": []
    },
    {
      "cell_type": "code",
      "metadata": {
        "id": "SXV19u7bkluq",
        "colab_type": "code",
        "colab": {}
      },
      "source": [
        "#retorno annual de cartera\n",
        "port_annual_returns = np.sum(returns.mean()* weights)*252\n",
        "port_annual_returns"
      ],
      "execution_count": 0,
      "outputs": []
    },
    {
      "cell_type": "code",
      "metadata": {
        "id": "ZlgPaRMbkoYp",
        "colab_type": "code",
        "colab": {}
      },
      "source": [
        "# ver la expectativa de retorno, volatividad o riesgo y la varianza\n",
        "percent_var = str(round(port_var,2)*100)+ '%'\n",
        "percent_vol = str(round(port_volatibidad,2)*100)+ '%'\n",
        "percent_return = str(round(port_annual_returns,2)*100)+ '%'"
      ],
      "execution_count": 0,
      "outputs": []
    },
    {
      "cell_type": "code",
      "metadata": {
        "id": "rtx4yIW7krQB",
        "colab_type": "code",
        "colab": {}
      },
      "source": [
        "print('expected annual return: ' + percent_return)\n",
        "print('expected volatividad/riesgo: ' + percent_vol)\n",
        "print('expected varianza: ' + percent_var)"
      ],
      "execution_count": 0,
      "outputs": []
    },
    {
      "cell_type": "markdown",
      "metadata": {
        "id": "tZ0a4ndFk079",
        "colab_type": "text"
      },
      "source": [
        "### Análisis (ML)\n",
        "\n",
        "ahora haremos los análisis realizados anteriormente pero utilizando **machine learning**"
      ]
    },
    {
      "cell_type": "code",
      "metadata": {
        "id": "BtyVqX6lkt-T",
        "colab_type": "code",
        "colab": {}
      },
      "source": [
        "pip install PyPortfolioOpt"
      ],
      "execution_count": 0,
      "outputs": []
    },
    {
      "cell_type": "code",
      "metadata": {
        "id": "fdUe1Np4kztv",
        "colab_type": "code",
        "colab": {}
      },
      "source": [
        "from pypfopt.efficient_frontier import EfficientFrontier\n",
        "from pypfopt import risk_models\n",
        "from pypfopt import expected_returns"
      ],
      "execution_count": 0,
      "outputs": []
    },
    {
      "cell_type": "code",
      "metadata": {
        "id": "SokKtAKqlsNf",
        "colab_type": "code",
        "colab": {}
      },
      "source": [
        "#calulo de las covarianza, del retorno y de la volatividad\n",
        "mu = expected_returns.mean_historical_return(df)\n",
        "s = risk_models.sample_cov(df)"
      ],
      "execution_count": 0,
      "outputs": []
    },
    {
      "cell_type": "code",
      "metadata": {
        "id": "eqvguzpxmFtw",
        "colab_type": "code",
        "colab": {}
      },
      "source": [
        "#optimizador max shape ratio\n",
        "ef = EfficientFrontier(mu,s)\n",
        "weights = ef.max_sharpe()\n",
        "cleaned_weights = ef.clean_weights()"
      ],
      "execution_count": 0,
      "outputs": []
    },
    {
      "cell_type": "code",
      "metadata": {
        "id": "_cNbBsxZmyMb",
        "colab_type": "code",
        "colab": {}
      },
      "source": [
        "print(cleaned_weights)\n",
        "ef.portfolio_performance(verbose=True)"
      ],
      "execution_count": 0,
      "outputs": []
    },
    {
      "cell_type": "markdown",
      "metadata": {
        "id": "TqrsyLZTr0kn",
        "colab_type": "text"
      },
      "source": [
        "---\n",
        "#### Calcular los Fondos restantes y su asignación discreta de $15,000"
      ]
    },
    {
      "cell_type": "code",
      "metadata": {
        "id": "8mmvqaWtnBO2",
        "colab_type": "code",
        "colab": {}
      },
      "source": [
        "from pypfopt.discrete_allocation import  DiscreteAllocation, get_latest_prices"
      ],
      "execution_count": 0,
      "outputs": []
    },
    {
      "cell_type": "code",
      "metadata": {
        "id": "o-DJN2IUngJM",
        "colab_type": "code",
        "colab": {}
      },
      "source": [
        "latest_prices = get_latest_prices(df)\n",
        "weights = cleaned_weights\n",
        "da = DiscreteAllocation(weights, latest_prices, total_portfolio_value=15000)"
      ],
      "execution_count": 0,
      "outputs": []
    },
    {
      "cell_type": "code",
      "metadata": {
        "id": "I6H9dgW6oI4J",
        "colab_type": "code",
        "colab": {}
      },
      "source": [
        "allocation, leftover = da.lp_portfolio()"
      ],
      "execution_count": 0,
      "outputs": []
    },
    {
      "cell_type": "code",
      "metadata": {
        "id": "lMkAhZHGp36V",
        "colab_type": "code",
        "colab": {}
      },
      "source": [
        "print('Asignación discreta:', allocation)\n",
        "print('fondos restantes: ${:.2f}'.format(leftover))"
      ],
      "execution_count": 0,
      "outputs": []
    }
  ]
}