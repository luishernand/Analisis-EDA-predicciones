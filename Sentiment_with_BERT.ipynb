{
  "nbformat": 4,
  "nbformat_minor": 0,
  "metadata": {
    "colab": {
      "name": "Sentiment with BERT.ipynb",
      "private_outputs": true,
      "provenance": []
    },
    "kernelspec": {
      "name": "python3",
      "display_name": "Python 3"
    },
    "language_info": {
      "name": "python"
    }
  },
  "cells": [
    {
      "cell_type": "markdown",
      "metadata": {
        "id": "fqm7N9GR_83C"
      },
      "source": [
        "# Install and import Dependecnies"
      ]
    },
    {
      "cell_type": "code",
      "metadata": {
        "id": "tdQWC4mB-WPp"
      },
      "source": [
        "!pip3 install torch==1.8.1+cpu torchvision==0.9.1+cpu torchaudio===0.8.1 -f https://download.pytorch.org/whl/torch_stable.html"
      ],
      "execution_count": null,
      "outputs": []
    },
    {
      "cell_type": "markdown",
      "metadata": {
        "id": "4lSwhXH3-ZR3"
      },
      "source": [
        "ejemplos de instalacion ver en [reviews](https://medium.com/saturdays-ai/empezando-a-usar-google-colab-con-pytorch-4efb53933624#:~:text=Para%20instalarlo%2C%20has%20clic%20en,ah%C3%AD%2C%20se%20abrir%C3%A1%20una%20ventana)\n",
        "```python \n",
        "!pip3 install http://download.pytorch.org/whl/cu80/torch-0.3.0.post4-cp36-cp36m-linux_x86_64.whl  \n",
        "!pip3 install torchvision\n",
        "```"
      ]
    },
    {
      "cell_type": "code",
      "metadata": {
        "id": "3yCmxRsb_fPR"
      },
      "source": [
        "!pip install transformers"
      ],
      "execution_count": null,
      "outputs": []
    },
    {
      "cell_type": "code",
      "metadata": {
        "id": "ERqy6B__AReK"
      },
      "source": [
        "import pandas as pd\n",
        "import numpy as np\n",
        "import matplotlib.pyplot as plt\n",
        "import seaborn as sns\n",
        "\n",
        "from transformers import AutoTokenizer, AutoModelForSequenceClassification\n",
        "import torch\n",
        "import requests\n",
        "from bs4 import BeautifulSoup\n",
        "import re"
      ],
      "execution_count": null,
      "outputs": []
    },
    {
      "cell_type": "markdown",
      "metadata": {
        "id": "mpAap61NA3Qo"
      },
      "source": [
        "## Instatie Model"
      ]
    },
    {
      "cell_type": "code",
      "metadata": {
        "id": "71dg_s7-A_1_"
      },
      "source": [
        "tokenizer = AutoTokenizer.from_pretrained('nlptown/bert-base-multilingual-uncased-sentiment')\n",
        "model = AutoModelForSequenceClassification.from_pretrained('nlptown/bert-base-multilingual-uncased-sentiment')"
      ],
      "execution_count": null,
      "outputs": []
    },
    {
      "cell_type": "markdown",
      "metadata": {
        "id": "5vhvwg_aBYTu"
      },
      "source": [
        "## Encode or Calculate Sentiment"
      ]
    },
    {
      "cell_type": "code",
      "metadata": {
        "id": "cC12TAFNBiF4"
      },
      "source": [
        "tokens = tokenizer.encode('It was good but couldve been better. Great', return_tensors='pt')"
      ],
      "execution_count": null,
      "outputs": []
    },
    {
      "cell_type": "code",
      "metadata": {
        "id": "d9tim4AwB0G9"
      },
      "source": [
        "result = model(tokens)"
      ],
      "execution_count": null,
      "outputs": []
    },
    {
      "cell_type": "code",
      "metadata": {
        "id": "7wX0PhvXB4kN"
      },
      "source": [
        "result.logits"
      ],
      "execution_count": null,
      "outputs": []
    },
    {
      "cell_type": "code",
      "metadata": {
        "id": "zQ8kFXRiB7UM"
      },
      "source": [
        "int(torch.argmax(result.logits))+1"
      ],
      "execution_count": null,
      "outputs": []
    },
    {
      "cell_type": "markdown",
      "metadata": {
        "id": "k_w70I49B-3e"
      },
      "source": [
        "## Colection Reviews  \n",
        "\n",
        "Web scrapping"
      ]
    },
    {
      "cell_type": "code",
      "metadata": {
        "id": "F8ekQH3NCIHb"
      },
      "source": [
        "r = requests.get('https://www.yelp.com/biz/social-brew-cafe-pyrmont')"
      ],
      "execution_count": null,
      "outputs": []
    },
    {
      "cell_type": "code",
      "metadata": {
        "id": "9NZ3dHIGCRqn"
      },
      "source": [
        "soup = BeautifulSoup(r.text, 'html.parser')"
      ],
      "execution_count": null,
      "outputs": []
    },
    {
      "cell_type": "code",
      "metadata": {
        "id": "4qyGIBOKCjTe"
      },
      "source": [
        "soup.text"
      ],
      "execution_count": null,
      "outputs": []
    },
    {
      "cell_type": "code",
      "metadata": {
        "id": "foZgcxyTChYi"
      },
      "source": [
        "regex = re.compile('.*comment.*')\n",
        "results = soup.find_all('p', {'class': regex})"
      ],
      "execution_count": null,
      "outputs": []
    },
    {
      "cell_type": "code",
      "metadata": {
        "id": "YZdnGlpmDQym"
      },
      "source": [
        "reviews = [result.text for result in results]"
      ],
      "execution_count": null,
      "outputs": []
    },
    {
      "cell_type": "code",
      "metadata": {
        "id": "9ll-kRtODSig"
      },
      "source": [
        "len(reviews)"
      ],
      "execution_count": null,
      "outputs": []
    },
    {
      "cell_type": "code",
      "metadata": {
        "id": "EVuuh5P_DsPl"
      },
      "source": [
        "reviews[0]"
      ],
      "execution_count": null,
      "outputs": []
    },
    {
      "cell_type": "markdown",
      "metadata": {
        "id": "quQ9r4PPDw9z"
      },
      "source": [
        "Load Reviews into DataFrame and Score"
      ]
    },
    {
      "cell_type": "code",
      "metadata": {
        "id": "2PDnKtUjEhQu"
      },
      "source": [
        "df = pd.DataFrame(np.array(reviews), columns=['review'])\n",
        "df.head()"
      ],
      "execution_count": null,
      "outputs": []
    },
    {
      "cell_type": "code",
      "metadata": {
        "id": "St3h7jQKD6GX"
      },
      "source": [
        "#fnx \n",
        "def sentiment_score(reviews):\n",
        "  tokens = tokenizer.encode(reviews, return_tensors='pt')\n",
        "  result = model(tokens)\n",
        "  return int(torch.argmax(result.logits))+1"
      ],
      "execution_count": null,
      "outputs": []
    },
    {
      "cell_type": "code",
      "metadata": {
        "id": "N5UG8Zc7E_bF"
      },
      "source": [
        "#example\n",
        "sentiment_score(df['review'].iloc[2])"
      ],
      "execution_count": null,
      "outputs": []
    },
    {
      "cell_type": "code",
      "metadata": {
        "id": "Y7k-3BVCFT3h"
      },
      "source": [
        "df['sentiment'] = df['review'].apply(lambda x: sentiment_score(x[:512]))"
      ],
      "execution_count": null,
      "outputs": []
    },
    {
      "cell_type": "code",
      "metadata": {
        "id": "Mo9wHP3RF380"
      },
      "source": [
        "df"
      ],
      "execution_count": null,
      "outputs": []
    },
    {
      "cell_type": "markdown",
      "metadata": {
        "id": "96CbL5iZF6PN"
      },
      "source": [
        "**Nota**  \n",
        "el [:512] es por que el modelo tiene un limite de tokenización"
      ]
    }
  ]
}