{
 "cells": [
  {
   "cell_type": "markdown",
   "id": "57629c13",
   "metadata": {},
   "source": [
    "# Recommendation System  \n",
    "**Libraries**"
   ]
  },
  {
   "cell_type": "code",
   "execution_count": 17,
   "id": "60075d59",
   "metadata": {},
   "outputs": [],
   "source": [
    "import pandas as pd\n",
    "import numpy as np\n",
    "import neattext.functions as nfx\n",
    "\n",
    "\n",
    "from sklearn.feature_extraction.text import TfidfVectorizer, CountVectorizer\n",
    "from sklearn.metrics.pairwise import cosine_similarity\n",
    "\n",
    "#avoid  warnings\n",
    "import warnings\n",
    "warnings.filterwarnings('ignore')"
   ]
  },
  {
   "cell_type": "markdown",
   "id": "5f73d623",
   "metadata": {},
   "source": [
    "## Read file"
   ]
  },
  {
   "cell_type": "code",
   "execution_count": 2,
   "id": "607576ef",
   "metadata": {},
   "outputs": [],
   "source": [
    "data = pd.read_csv('udemy_courses.csv')"
   ]
  },
  {
   "cell_type": "code",
   "execution_count": 4,
   "id": "2453b47c",
   "metadata": {},
   "outputs": [
    {
     "data": {
      "text/html": [
       "<div>\n",
       "<style scoped>\n",
       "    .dataframe tbody tr th:only-of-type {\n",
       "        vertical-align: middle;\n",
       "    }\n",
       "\n",
       "    .dataframe tbody tr th {\n",
       "        vertical-align: top;\n",
       "    }\n",
       "\n",
       "    .dataframe thead th {\n",
       "        text-align: right;\n",
       "    }\n",
       "</style>\n",
       "<table border=\"1\" class=\"dataframe\">\n",
       "  <thead>\n",
       "    <tr style=\"text-align: right;\">\n",
       "      <th></th>\n",
       "      <th>course_id</th>\n",
       "      <th>course_title</th>\n",
       "      <th>url</th>\n",
       "      <th>is_paid</th>\n",
       "      <th>price</th>\n",
       "      <th>num_subscribers</th>\n",
       "      <th>num_reviews</th>\n",
       "      <th>num_lectures</th>\n",
       "      <th>level</th>\n",
       "      <th>content_duration</th>\n",
       "      <th>published_timestamp</th>\n",
       "      <th>subject</th>\n",
       "    </tr>\n",
       "  </thead>\n",
       "  <tbody>\n",
       "    <tr>\n",
       "      <th>0</th>\n",
       "      <td>1070968</td>\n",
       "      <td>Ultimate Investment Banking Course</td>\n",
       "      <td>https://www.udemy.com/ultimate-investment-bank...</td>\n",
       "      <td>True</td>\n",
       "      <td>200</td>\n",
       "      <td>2147</td>\n",
       "      <td>23</td>\n",
       "      <td>51</td>\n",
       "      <td>All Levels</td>\n",
       "      <td>1.5</td>\n",
       "      <td>2017-01-18T20:58:58Z</td>\n",
       "      <td>Business Finance</td>\n",
       "    </tr>\n",
       "  </tbody>\n",
       "</table>\n",
       "</div>"
      ],
      "text/plain": [
       "   course_id                        course_title  \\\n",
       "0    1070968  Ultimate Investment Banking Course   \n",
       "\n",
       "                                                 url  is_paid  price  \\\n",
       "0  https://www.udemy.com/ultimate-investment-bank...     True    200   \n",
       "\n",
       "   num_subscribers  num_reviews  num_lectures       level  content_duration  \\\n",
       "0             2147           23            51  All Levels               1.5   \n",
       "\n",
       "    published_timestamp           subject  \n",
       "0  2017-01-18T20:58:58Z  Business Finance  "
      ]
     },
     "execution_count": 4,
     "metadata": {},
     "output_type": "execute_result"
    }
   ],
   "source": [
    "data.head(1)"
   ]
  },
  {
   "cell_type": "code",
   "execution_count": 5,
   "id": "a8c06e26",
   "metadata": {},
   "outputs": [
    {
     "data": {
      "text/plain": [
       "course_id              0\n",
       "course_title           0\n",
       "url                    0\n",
       "is_paid                0\n",
       "price                  0\n",
       "num_subscribers        0\n",
       "num_reviews            0\n",
       "num_lectures           0\n",
       "level                  0\n",
       "content_duration       0\n",
       "published_timestamp    0\n",
       "subject                0\n",
       "dtype: int64"
      ]
     },
     "execution_count": 5,
     "metadata": {},
     "output_type": "execute_result"
    }
   ],
   "source": [
    "#check null values\n",
    "data.isnull().sum()"
   ]
  },
  {
   "cell_type": "code",
   "execution_count": 6,
   "id": "e4bf7b8c",
   "metadata": {},
   "outputs": [
    {
     "data": {
      "text/plain": [
       "True"
      ]
     },
     "execution_count": 6,
     "metadata": {},
     "output_type": "execute_result"
    }
   ],
   "source": [
    "#check duplicates\n",
    "data.duplicated().any()"
   ]
  },
  {
   "cell_type": "code",
   "execution_count": 7,
   "id": "49f685e0",
   "metadata": {},
   "outputs": [
    {
     "data": {
      "text/plain": [
       "(3672, 12)"
      ]
     },
     "execution_count": 7,
     "metadata": {},
     "output_type": "execute_result"
    }
   ],
   "source": [
    "#drop duplicates\n",
    "data = data.drop_duplicates()\n",
    "data.shape"
   ]
  },
  {
   "cell_type": "markdown",
   "id": "278a0349",
   "metadata": {},
   "source": [
    "### Popularity-Based recommendation system"
   ]
  },
  {
   "cell_type": "code",
   "execution_count": 12,
   "id": "02661bc4",
   "metadata": {},
   "outputs": [],
   "source": [
    "#function \n",
    "\n",
    "def popularity_based_recommendation(df,top_n=5):\n",
    "    #add new column popularity score \n",
    "    data['popularity_score'] = 0.6 * data['num_subscribers'] + 0.4 * data['num_reviews'] \n",
    "    \n",
    "    #sort courses by popularity score\n",
    "    df_sorted = data.sort_values(by = 'popularity_score', ascending = False)\n",
    "    \n",
    "    #Return the recomemednded courses\n",
    "    recommened_courses = df_sorted[['course_title','popularity_score' ]].head(top_n)\n",
    "    \n",
    "    return recommened_courses"
   ]
  },
  {
   "cell_type": "code",
   "execution_count": 13,
   "id": "fc7eb0f8",
   "metadata": {},
   "outputs": [
    {
     "name": "stderr",
     "output_type": "stream",
     "text": [
      "C:\\Users\\User\\AppData\\Local\\Temp\\ipykernel_15236\\72860658.py:5: SettingWithCopyWarning: \n",
      "A value is trying to be set on a copy of a slice from a DataFrame.\n",
      "Try using .loc[row_indexer,col_indexer] = value instead\n",
      "\n",
      "See the caveats in the documentation: https://pandas.pydata.org/pandas-docs/stable/user_guide/indexing.html#returning-a-view-versus-a-copy\n",
      "  data['popularity_score'] = 0.6 * data['num_subscribers'] + 0.4 * data['num_reviews']\n"
     ]
    },
    {
     "data": {
      "text/html": [
       "<div>\n",
       "<style scoped>\n",
       "    .dataframe tbody tr th:only-of-type {\n",
       "        vertical-align: middle;\n",
       "    }\n",
       "\n",
       "    .dataframe tbody tr th {\n",
       "        vertical-align: top;\n",
       "    }\n",
       "\n",
       "    .dataframe thead th {\n",
       "        text-align: right;\n",
       "    }\n",
       "</style>\n",
       "<table border=\"1\" class=\"dataframe\">\n",
       "  <thead>\n",
       "    <tr style=\"text-align: right;\">\n",
       "      <th></th>\n",
       "      <th>course_title</th>\n",
       "      <th>popularity_score</th>\n",
       "    </tr>\n",
       "  </thead>\n",
       "  <tbody>\n",
       "    <tr>\n",
       "      <th>2827</th>\n",
       "      <td>Learn HTML5 Programming From Scratch</td>\n",
       "      <td>164805.4</td>\n",
       "    </tr>\n",
       "    <tr>\n",
       "      <th>3032</th>\n",
       "      <td>Coding for Entrepreneurs Basic</td>\n",
       "      <td>96729.0</td>\n",
       "    </tr>\n",
       "    <tr>\n",
       "      <th>3230</th>\n",
       "      <td>The Web Developer Bootcamp</td>\n",
       "      <td>83928.4</td>\n",
       "    </tr>\n",
       "    <tr>\n",
       "      <th>3232</th>\n",
       "      <td>The Complete Web Developer Course 2.0</td>\n",
       "      <td>77672.0</td>\n",
       "    </tr>\n",
       "    <tr>\n",
       "      <th>2783</th>\n",
       "      <td>Build Your First Website in 1 Week with HTML5 ...</td>\n",
       "      <td>74544.2</td>\n",
       "    </tr>\n",
       "  </tbody>\n",
       "</table>\n",
       "</div>"
      ],
      "text/plain": [
       "                                           course_title  popularity_score\n",
       "2827               Learn HTML5 Programming From Scratch          164805.4\n",
       "3032                     Coding for Entrepreneurs Basic           96729.0\n",
       "3230                         The Web Developer Bootcamp           83928.4\n",
       "3232              The Complete Web Developer Course 2.0           77672.0\n",
       "2783  Build Your First Website in 1 Week with HTML5 ...           74544.2"
      ]
     },
     "execution_count": 13,
     "metadata": {},
     "output_type": "execute_result"
    }
   ],
   "source": [
    "popularity_based_recommendation(data)"
   ]
  },
  {
   "cell_type": "markdown",
   "id": "e585cb95",
   "metadata": {},
   "source": [
    "### Conetent-Based Recommedation System"
   ]
  },
  {
   "cell_type": "markdown",
   "id": "4f0f81c6",
   "metadata": {},
   "source": [
    "#### Clean Data"
   ]
  },
  {
   "cell_type": "code",
   "execution_count": 14,
   "id": "b40b9608",
   "metadata": {},
   "outputs": [
    {
     "name": "stderr",
     "output_type": "stream",
     "text": [
      "C:\\Users\\User\\AppData\\Local\\Temp\\ipykernel_15236\\2415000442.py:1: SettingWithCopyWarning: \n",
      "A value is trying to be set on a copy of a slice from a DataFrame.\n",
      "Try using .loc[row_indexer,col_indexer] = value instead\n",
      "\n",
      "See the caveats in the documentation: https://pandas.pydata.org/pandas-docs/stable/user_guide/indexing.html#returning-a-view-versus-a-copy\n",
      "  data['course_title'] = data['course_title'].apply(nfx.remove_stopwords)\n",
      "C:\\Users\\User\\AppData\\Local\\Temp\\ipykernel_15236\\2415000442.py:2: SettingWithCopyWarning: \n",
      "A value is trying to be set on a copy of a slice from a DataFrame.\n",
      "Try using .loc[row_indexer,col_indexer] = value instead\n",
      "\n",
      "See the caveats in the documentation: https://pandas.pydata.org/pandas-docs/stable/user_guide/indexing.html#returning-a-view-versus-a-copy\n",
      "  data['course_title'] = data['course_title'].apply(nfx.remove_special_characters)\n"
     ]
    }
   ],
   "source": [
    "data['course_title'] = data['course_title'].apply(nfx.remove_stopwords)\n",
    "data['course_title'] = data['course_title'].apply(nfx.remove_special_characters)"
   ]
  },
  {
   "cell_type": "code",
   "execution_count": 15,
   "id": "75a4c603",
   "metadata": {},
   "outputs": [
    {
     "data": {
      "text/html": [
       "<div>\n",
       "<style scoped>\n",
       "    .dataframe tbody tr th:only-of-type {\n",
       "        vertical-align: middle;\n",
       "    }\n",
       "\n",
       "    .dataframe tbody tr th {\n",
       "        vertical-align: top;\n",
       "    }\n",
       "\n",
       "    .dataframe thead th {\n",
       "        text-align: right;\n",
       "    }\n",
       "</style>\n",
       "<table border=\"1\" class=\"dataframe\">\n",
       "  <thead>\n",
       "    <tr style=\"text-align: right;\">\n",
       "      <th></th>\n",
       "      <th>course_id</th>\n",
       "      <th>course_title</th>\n",
       "      <th>url</th>\n",
       "      <th>is_paid</th>\n",
       "      <th>price</th>\n",
       "      <th>num_subscribers</th>\n",
       "      <th>num_reviews</th>\n",
       "      <th>num_lectures</th>\n",
       "      <th>level</th>\n",
       "      <th>content_duration</th>\n",
       "      <th>published_timestamp</th>\n",
       "      <th>subject</th>\n",
       "      <th>popularity_score</th>\n",
       "    </tr>\n",
       "  </thead>\n",
       "  <tbody>\n",
       "    <tr>\n",
       "      <th>1535</th>\n",
       "      <td>368958</td>\n",
       "      <td>Advanced Graphic DesignPhotoshop CC 2014 Photo...</td>\n",
       "      <td>https://www.udemy.com/advanced-graphic-design-...</td>\n",
       "      <td>True</td>\n",
       "      <td>20</td>\n",
       "      <td>314</td>\n",
       "      <td>11</td>\n",
       "      <td>19</td>\n",
       "      <td>All Levels</td>\n",
       "      <td>1.5</td>\n",
       "      <td>2014-12-19T05:55:57Z</td>\n",
       "      <td>Graphic Design</td>\n",
       "      <td>192.8</td>\n",
       "    </tr>\n",
       "    <tr>\n",
       "      <th>2045</th>\n",
       "      <td>917432</td>\n",
       "      <td>Professional Bass Masterclass</td>\n",
       "      <td>https://www.udemy.com/the-professional-bass-ma...</td>\n",
       "      <td>True</td>\n",
       "      <td>200</td>\n",
       "      <td>1449</td>\n",
       "      <td>136</td>\n",
       "      <td>88</td>\n",
       "      <td>All Levels</td>\n",
       "      <td>7.0</td>\n",
       "      <td>2016-10-24T18:22:57Z</td>\n",
       "      <td>Musical Instruments</td>\n",
       "      <td>923.8</td>\n",
       "    </tr>\n",
       "    <tr>\n",
       "      <th>2358</th>\n",
       "      <td>594852</td>\n",
       "      <td>Getting Started Power Chords</td>\n",
       "      <td>https://www.udemy.com/getting-started-with-pow...</td>\n",
       "      <td>True</td>\n",
       "      <td>20</td>\n",
       "      <td>6</td>\n",
       "      <td>0</td>\n",
       "      <td>27</td>\n",
       "      <td>Beginner Level</td>\n",
       "      <td>1.0</td>\n",
       "      <td>2015-12-17T20:36:08Z</td>\n",
       "      <td>Musical Instruments</td>\n",
       "      <td>3.6</td>\n",
       "    </tr>\n",
       "    <tr>\n",
       "      <th>1547</th>\n",
       "      <td>288850</td>\n",
       "      <td>Logo design pay illustrator day</td>\n",
       "      <td>https://www.udemy.com/designing-logos-with-ill...</td>\n",
       "      <td>True</td>\n",
       "      <td>50</td>\n",
       "      <td>22</td>\n",
       "      <td>1</td>\n",
       "      <td>20</td>\n",
       "      <td>All Levels</td>\n",
       "      <td>4.0</td>\n",
       "      <td>2014-09-01T08:23:29Z</td>\n",
       "      <td>Graphic Design</td>\n",
       "      <td>13.6</td>\n",
       "    </tr>\n",
       "    <tr>\n",
       "      <th>2243</th>\n",
       "      <td>459207</td>\n",
       "      <td>Master Bassoon  Intermediate Instruction Simple</td>\n",
       "      <td>https://www.udemy.com/intermediate-bassoon/</td>\n",
       "      <td>True</td>\n",
       "      <td>50</td>\n",
       "      <td>177</td>\n",
       "      <td>3</td>\n",
       "      <td>102</td>\n",
       "      <td>All Levels</td>\n",
       "      <td>7.5</td>\n",
       "      <td>2015-04-15T17:12:37Z</td>\n",
       "      <td>Musical Instruments</td>\n",
       "      <td>107.4</td>\n",
       "    </tr>\n",
       "  </tbody>\n",
       "</table>\n",
       "</div>"
      ],
      "text/plain": [
       "      course_id                                       course_title  \\\n",
       "1535     368958  Advanced Graphic DesignPhotoshop CC 2014 Photo...   \n",
       "2045     917432                      Professional Bass Masterclass   \n",
       "2358     594852                       Getting Started Power Chords   \n",
       "1547     288850                    Logo design pay illustrator day   \n",
       "2243     459207    Master Bassoon  Intermediate Instruction Simple   \n",
       "\n",
       "                                                    url  is_paid  price  \\\n",
       "1535  https://www.udemy.com/advanced-graphic-design-...     True     20   \n",
       "2045  https://www.udemy.com/the-professional-bass-ma...     True    200   \n",
       "2358  https://www.udemy.com/getting-started-with-pow...     True     20   \n",
       "1547  https://www.udemy.com/designing-logos-with-ill...     True     50   \n",
       "2243        https://www.udemy.com/intermediate-bassoon/     True     50   \n",
       "\n",
       "      num_subscribers  num_reviews  num_lectures           level  \\\n",
       "1535              314           11            19      All Levels   \n",
       "2045             1449          136            88      All Levels   \n",
       "2358                6            0            27  Beginner Level   \n",
       "1547               22            1            20      All Levels   \n",
       "2243              177            3           102      All Levels   \n",
       "\n",
       "      content_duration   published_timestamp              subject  \\\n",
       "1535               1.5  2014-12-19T05:55:57Z       Graphic Design   \n",
       "2045               7.0  2016-10-24T18:22:57Z  Musical Instruments   \n",
       "2358               1.0  2015-12-17T20:36:08Z  Musical Instruments   \n",
       "1547               4.0  2014-09-01T08:23:29Z       Graphic Design   \n",
       "2243               7.5  2015-04-15T17:12:37Z  Musical Instruments   \n",
       "\n",
       "      popularity_score  \n",
       "1535             192.8  \n",
       "2045             923.8  \n",
       "2358               3.6  \n",
       "1547              13.6  \n",
       "2243             107.4  "
      ]
     },
     "execution_count": 15,
     "metadata": {},
     "output_type": "execute_result"
    }
   ],
   "source": [
    "data.sample(5)"
   ]
  },
  {
   "cell_type": "code",
   "execution_count": 16,
   "id": "2051164f",
   "metadata": {},
   "outputs": [
    {
     "name": "stderr",
     "output_type": "stream",
     "text": [
      "C:\\Users\\User\\AppData\\Local\\Temp\\ipykernel_15236\\230463673.py:2: SettingWithCopyWarning: \n",
      "A value is trying to be set on a copy of a slice from a DataFrame.\n",
      "Try using .loc[row_indexer,col_indexer] = value instead\n",
      "\n",
      "See the caveats in the documentation: https://pandas.pydata.org/pandas-docs/stable/user_guide/indexing.html#returning-a-view-versus-a-copy\n",
      "  data['title_subject'] = data['course_title'] + '' + data['subject']\n"
     ]
    }
   ],
   "source": [
    "#add new colum\n",
    "data['title_subject'] = data['course_title'] + '' + data['subject']"
   ]
  },
  {
   "cell_type": "markdown",
   "id": "a84f1f82",
   "metadata": {},
   "source": [
    "### Vectorizer "
   ]
  },
  {
   "cell_type": "code",
   "execution_count": 20,
   "id": "adeccee5",
   "metadata": {},
   "outputs": [],
   "source": [
    "cv = CountVectorizer(max_features=3000)\n",
    "vectors = cv.fit_transform(data['title_subject']).toarray()"
   ]
  },
  {
   "cell_type": "code",
   "execution_count": 22,
   "id": "f6f7543c",
   "metadata": {},
   "outputs": [
    {
     "data": {
      "text/plain": [
       "array([0, 0, 0, ..., 0, 0, 0], dtype=int64)"
      ]
     },
     "execution_count": 22,
     "metadata": {},
     "output_type": "execute_result"
    }
   ],
   "source": [
    "vectors[0]"
   ]
  },
  {
   "cell_type": "code",
   "execution_count": 23,
   "id": "05b9eded",
   "metadata": {},
   "outputs": [
    {
     "data": {
      "text/plain": [
       "3000"
      ]
     },
     "execution_count": 23,
     "metadata": {},
     "output_type": "execute_result"
    }
   ],
   "source": [
    "len(cv.get_feature_names())"
   ]
  },
  {
   "cell_type": "code",
   "execution_count": 24,
   "id": "cf817df8",
   "metadata": {},
   "outputs": [],
   "source": [
    "#calculate the similarity score\n",
    "similarity = cosine_similarity(vectors)"
   ]
  },
  {
   "cell_type": "code",
   "execution_count": 25,
   "id": "8101d8d6",
   "metadata": {},
   "outputs": [
    {
     "data": {
      "text/plain": [
       "[(417, 0.6),\n",
       " (39, 0.5477225575051662),\n",
       " (657, 0.5477225575051662),\n",
       " (1066, 0.5477225575051662),\n",
       " (227, 0.50709255283711)]"
      ]
     },
     "execution_count": 25,
     "metadata": {},
     "output_type": "execute_result"
    }
   ],
   "source": [
    "#sorted values and print the first 5\n",
    "sorted(list(enumerate(similarity[0])), reverse =True, key = lambda x:x[1])[1:6]"
   ]
  },
  {
   "cell_type": "code",
   "execution_count": 27,
   "id": "bcc2ffe0",
   "metadata": {},
   "outputs": [],
   "source": [
    "#Function to get the similarity score and print the title of the recommendations\n",
    "def recommend(course):\n",
    "    #featch the index\n",
    "    course_index = data[data['course_title']==course].index[0]\n",
    "    distances = similarity[course_index]\n",
    "    courses_list = sorted(list(enumerate(distances)), reverse =True, key = lambda x:x[1])[1:6]\n",
    "    for i in courses_list:\n",
    "        print(data.iloc[i[0]]['course_title'])"
   ]
  },
  {
   "cell_type": "code",
   "execution_count": 28,
   "id": "0387d2ff",
   "metadata": {},
   "outputs": [
    {
     "name": "stdout",
     "output_type": "stream",
     "text": [
      "Kids Coding  Beginners CSS\n",
      "WordPress Beginners  Tutorial  Novice KnowHow\n",
      "WordPress Beginners 2017  Google AdSense Implementation\n",
      "WordPress Development Beginners\n",
      "Explore JavaScript Beginners Guide Coding JavaScript\n"
     ]
    }
   ],
   "source": [
    "recommend('know HTML Learn HTML Basics')"
   ]
  },
  {
   "cell_type": "code",
   "execution_count": 30,
   "id": "ba1aabad",
   "metadata": {},
   "outputs": [
    {
     "name": "stdout",
     "output_type": "stream",
     "text": [
      "Rock Drumset Grooves Level 1\n",
      "Worship Piano Beginner Pro\n",
      "Piano Willie Piano Chords Vol 1\n",
      "Easy Piano Kids  Complete Beginner Piano Course\n",
      "Playing Piano Popular Pieces Vol II\n"
     ]
    }
   ],
   "source": [
    "recommend('Professional Bass Masterclass')"
   ]
  },
  {
   "cell_type": "markdown",
   "id": "579b2e36",
   "metadata": {},
   "source": [
    "### Save"
   ]
  },
  {
   "cell_type": "code",
   "execution_count": 32,
   "id": "477a8be7",
   "metadata": {},
   "outputs": [],
   "source": [
    "import pickle"
   ]
  },
  {
   "cell_type": "code",
   "execution_count": 34,
   "id": "0efe59d2",
   "metadata": {},
   "outputs": [],
   "source": [
    "pickle.dump(data,open('course_dict.pkl','wb'))"
   ]
  },
  {
   "cell_type": "code",
   "execution_count": 35,
   "id": "4e1ef531",
   "metadata": {},
   "outputs": [],
   "source": [
    "pickle.dump(similarity,open('similarity.pkl','wb'))"
   ]
  },
  {
   "cell_type": "markdown",
   "id": "8eca0195",
   "metadata": {},
   "source": [
    "## GUI"
   ]
  },
  {
   "cell_type": "code",
   "execution_count": 39,
   "id": "1acd1f4d",
   "metadata": {},
   "outputs": [],
   "source": [
    "import tkinter as tk\n",
    "from tkinter import ttk, messagebox\n",
    "import pandas as pd\n",
    "\n",
    "# Assume 'data', 'similarity' are defined elsewhere\n",
    "\n",
    "#Define the popularity-based recomendation funtion\n",
    "def popularity_based_recommendation(df,top_n=5):\n",
    "    #add new column popularity score \n",
    "    data['popularity_score'] = 0.6 * data['num_subscribers'] + 0.4 * data['num_reviews'] \n",
    "    \n",
    "    #sort courses by popularity score\n",
    "    df_sorted = data.sort_values(by = 'popularity_score', ascending = False)\n",
    "    \n",
    "    #Return the recomemednded courses\n",
    "    recommened_courses = df_sorted[['course_title','popularity_score' ]].head(top_n)\n",
    "    \n",
    "    return recommened_courses\n",
    "\n",
    "#Define the  recomendation funtion\n",
    "def recommend(course):\n",
    "    try:\n",
    "        #featch the index\n",
    "        course_index = data[data['course_title']==course].index[0]\n",
    "        distances = similarity[course_index]\n",
    "        courses_list = sorted(list(enumerate(distances)), reverse =True, key = lambda x:x[1])[1:6]\n",
    "        recommended_courses = [data.iloc[i[0]]['course_title'] for i in courses_list]\n",
    "        return recommended_courses\n",
    "    except IndexError:\n",
    "        messagebox.showerror(\"Error\", f\"Course '{course}' not found.\")\n",
    "        \n",
    "# Event handler for the \"Recommend\" button\n",
    "def recommend_button_click():\n",
    "    course_title = course_var.get()\n",
    "    recommended_courses = recommend(course_title)\n",
    "    if recommended_courses:\n",
    "        popularity_label.pack_forget()\n",
    "        result_label.config(text=\"Recommended Courses:\\n\" + '\\n'.join(recommended_courses))\n",
    "        \n",
    "#Create the main applicatin window\n",
    "root = tk.Tk()\n",
    "root.title('Course Recommender')\n",
    "root.geometry('400x300')\n",
    "\n",
    "#change font and color\n",
    "font_style = ('Arial',12)\n",
    "label_color = 'blue'\n",
    "heading_color = 'red'\n",
    "button_color = 'green'\n",
    "result_label_color = 'black'\n",
    "\n",
    "#create and place GUI elements\n",
    "label = tk.Label(root, text=\"Select Course:\", font=font_style, fg=label_color)\n",
    "label.pack(pady=10)\n",
    "\n",
    "course_titles = data['course_title'].to_list()\n",
    "course_var = tk.StringVar(value =course_titles[0] )\n",
    "course_dropdown = ttk.Combobox(root,textvariable=course_var, values=course_titles, width=40, font=font_style )\n",
    "course_dropdown.pack(pady =5)\n",
    "\n",
    "popularity_recommendations = popularity_based_recommendation(data, top_n=5)\n",
    "popularity_label = tk.Label(root, text=\"Popularity-based Recommendations:\\n\" + popularity_recommendations.to_string(index=False),\n",
    "                             font=font_style, fg=label_color)\n",
    "popularity_label.pack()\n",
    "\n",
    "recommend_button = tk.Button(root, text=\"Recommend\", command=recommend_button_click, width=20, font=font_style, fg=button_color)\n",
    "recommend_button.pack(pady=10)\n",
    "\n",
    "\n",
    "result_label = tk.Label(root, text=\"\", wraplength=350, font=font_style, fg=result_label_color)\n",
    "result_label.pack()\n",
    "\n",
    "\n",
    "\n",
    "root.mainloop()"
   ]
  },
  {
   "cell_type": "code",
   "execution_count": null,
   "id": "da0e25ff",
   "metadata": {},
   "outputs": [],
   "source": []
  }
 ],
 "metadata": {
  "kernelspec": {
   "display_name": "Python 3 (ipykernel)",
   "language": "python",
   "name": "python3"
  },
  "language_info": {
   "codemirror_mode": {
    "name": "ipython",
    "version": 3
   },
   "file_extension": ".py",
   "mimetype": "text/x-python",
   "name": "python",
   "nbconvert_exporter": "python",
   "pygments_lexer": "ipython3",
   "version": "3.8.8"
  }
 },
 "nbformat": 4,
 "nbformat_minor": 5
}
