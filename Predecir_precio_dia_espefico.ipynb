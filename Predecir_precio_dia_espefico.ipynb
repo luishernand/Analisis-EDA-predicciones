{
 "cells": [
  {
   "cell_type": "markdown",
   "metadata": {},
   "source": [
    "<img src=\"https://github.com/luishernand/pandas_fundamentals/blob/master/logo4.JPG?raw=true\" height = 200 width=200 alt=\" \">  \n",
    "\n",
    "# Predict the Stock Price  \n",
    "\n",
    "**Descripción:** Programa que predice el precio de cierre de un día en especifíco\n",
    "\n",
    "|Email|Fecha|\n",
    "|-----|-----|\n",
    "|luishernandezmatos@yahoo.com|17 de junio 2020|"
   ]
  },
  {
   "cell_type": "markdown",
   "metadata": {},
   "source": [
    "## Contenido:  \n",
    "1. [Carga de librerías](#Librerias)\n",
    "1. [Dataset](#Carga-del-dataset:)\n",
    "    1. [filtrar datos](#Filtrar-los-datos-del-%C3%BAltimo-d%C3%ADa)\n",
    "1. [Preparar los datos](#Preparar-los-datos)\n",
    "1. [Crear Modelo](#Crear-Modelo)\n",
    "1. [Predecir el precio](#Predecir-el-precio)\n"
   ]
  },
  {
   "cell_type": "markdown",
   "metadata": {},
   "source": [
    "### Librerias"
   ]
  },
  {
   "cell_type": "code",
   "execution_count": 57,
   "metadata": {},
   "outputs": [],
   "source": [
    "import numpy as np\n",
    "import pandas as pd\n",
    "import matplotlib.pyplot as plt \n",
    "import seaborn as sns\n",
    "%matplotlib inline\n",
    "from sklearn.svm import SVR"
   ]
  },
  {
   "cell_type": "markdown",
   "metadata": {},
   "source": [
    "### Carga del dataset:  \n",
    "[GOOG.csv](https://finance.yahoo.com/quote/GOOG/history)"
   ]
  },
  {
   "cell_type": "code",
   "execution_count": 58,
   "metadata": {},
   "outputs": [
    {
     "data": {
      "text/html": [
       "<div>\n",
       "<style scoped>\n",
       "    .dataframe tbody tr th:only-of-type {\n",
       "        vertical-align: middle;\n",
       "    }\n",
       "\n",
       "    .dataframe tbody tr th {\n",
       "        vertical-align: top;\n",
       "    }\n",
       "\n",
       "    .dataframe thead th {\n",
       "        text-align: right;\n",
       "    }\n",
       "</style>\n",
       "<table border=\"1\" class=\"dataframe\">\n",
       "  <thead>\n",
       "    <tr style=\"text-align: right;\">\n",
       "      <th></th>\n",
       "      <th>Date</th>\n",
       "      <th>Open</th>\n",
       "      <th>High</th>\n",
       "      <th>Low</th>\n",
       "      <th>Close</th>\n",
       "      <th>Adj Close</th>\n",
       "      <th>Volume</th>\n",
       "    </tr>\n",
       "  </thead>\n",
       "  <tbody>\n",
       "    <tr>\n",
       "      <th>0</th>\n",
       "      <td>2019-06-17</td>\n",
       "      <td>1086.280029</td>\n",
       "      <td>1099.180054</td>\n",
       "      <td>1086.280029</td>\n",
       "      <td>1092.500000</td>\n",
       "      <td>1092.500000</td>\n",
       "      <td>941600</td>\n",
       "    </tr>\n",
       "    <tr>\n",
       "      <th>1</th>\n",
       "      <td>2019-06-18</td>\n",
       "      <td>1109.689941</td>\n",
       "      <td>1116.390015</td>\n",
       "      <td>1098.989990</td>\n",
       "      <td>1103.599976</td>\n",
       "      <td>1103.599976</td>\n",
       "      <td>1386700</td>\n",
       "    </tr>\n",
       "  </tbody>\n",
       "</table>\n",
       "</div>"
      ],
      "text/plain": [
       "        Date         Open         High          Low        Close    Adj Close  \\\n",
       "0 2019-06-17  1086.280029  1099.180054  1086.280029  1092.500000  1092.500000   \n",
       "1 2019-06-18  1109.689941  1116.390015  1098.989990  1103.599976  1103.599976   \n",
       "\n",
       "    Volume  \n",
       "0   941600  \n",
       "1  1386700  "
      ]
     },
     "execution_count": 58,
     "metadata": {},
     "output_type": "execute_result"
    }
   ],
   "source": [
    "df = pd.read_csv('GOOG.csv',parse_dates=['Date'] )\n",
    "df.head(2)"
   ]
  },
  {
   "cell_type": "markdown",
   "metadata": {},
   "source": [
    "#### Filtrar los datos del último día"
   ]
  },
  {
   "cell_type": "code",
   "execution_count": 59,
   "metadata": {},
   "outputs": [
    {
     "data": {
      "text/html": [
       "<div>\n",
       "<style scoped>\n",
       "    .dataframe tbody tr th:only-of-type {\n",
       "        vertical-align: middle;\n",
       "    }\n",
       "\n",
       "    .dataframe tbody tr th {\n",
       "        vertical-align: top;\n",
       "    }\n",
       "\n",
       "    .dataframe thead th {\n",
       "        text-align: right;\n",
       "    }\n",
       "</style>\n",
       "<table border=\"1\" class=\"dataframe\">\n",
       "  <thead>\n",
       "    <tr style=\"text-align: right;\">\n",
       "      <th></th>\n",
       "      <th>Date</th>\n",
       "      <th>Open</th>\n",
       "      <th>High</th>\n",
       "      <th>Low</th>\n",
       "      <th>Close</th>\n",
       "      <th>Adj Close</th>\n",
       "      <th>Volume</th>\n",
       "    </tr>\n",
       "  </thead>\n",
       "  <tbody>\n",
       "    <tr>\n",
       "      <th>252</th>\n",
       "      <td>2020-06-16</td>\n",
       "      <td>1445.219971</td>\n",
       "      <td>1455.02002</td>\n",
       "      <td>1425.900024</td>\n",
       "      <td>1442.719971</td>\n",
       "      <td>1442.719971</td>\n",
       "      <td>1709200</td>\n",
       "    </tr>\n",
       "  </tbody>\n",
       "</table>\n",
       "</div>"
      ],
      "text/plain": [
       "          Date         Open        High          Low        Close  \\\n",
       "252 2020-06-16  1445.219971  1455.02002  1425.900024  1442.719971   \n",
       "\n",
       "       Adj Close   Volume  \n",
       "252  1442.719971  1709200  "
      ]
     },
     "execution_count": 59,
     "metadata": {},
     "output_type": "execute_result"
    }
   ],
   "source": [
    "actual_price = df.tail(1)\n",
    "actual_price"
   ]
  },
  {
   "cell_type": "markdown",
   "metadata": {},
   "source": [
    "### Preparar los datos  \n",
    "1. [x] Eliminar de los df el ultimo día\n",
    "1. [x] Crear las variables dependiente e independiente"
   ]
  },
  {
   "cell_type": "code",
   "execution_count": 60,
   "metadata": {},
   "outputs": [
    {
     "data": {
      "text/html": [
       "<div>\n",
       "<style scoped>\n",
       "    .dataframe tbody tr th:only-of-type {\n",
       "        vertical-align: middle;\n",
       "    }\n",
       "\n",
       "    .dataframe tbody tr th {\n",
       "        vertical-align: top;\n",
       "    }\n",
       "\n",
       "    .dataframe thead th {\n",
       "        text-align: right;\n",
       "    }\n",
       "</style>\n",
       "<table border=\"1\" class=\"dataframe\">\n",
       "  <thead>\n",
       "    <tr style=\"text-align: right;\">\n",
       "      <th></th>\n",
       "      <th>Date</th>\n",
       "      <th>Open</th>\n",
       "      <th>High</th>\n",
       "      <th>Low</th>\n",
       "      <th>Close</th>\n",
       "      <th>Adj Close</th>\n",
       "      <th>Volume</th>\n",
       "    </tr>\n",
       "  </thead>\n",
       "  <tbody>\n",
       "    <tr>\n",
       "      <th>247</th>\n",
       "      <td>2020-06-09</td>\n",
       "      <td>1445.359985</td>\n",
       "      <td>1468.000000</td>\n",
       "      <td>1443.209961</td>\n",
       "      <td>1456.160034</td>\n",
       "      <td>1456.160034</td>\n",
       "      <td>1409200</td>\n",
       "    </tr>\n",
       "    <tr>\n",
       "      <th>248</th>\n",
       "      <td>2020-06-10</td>\n",
       "      <td>1459.540039</td>\n",
       "      <td>1474.259033</td>\n",
       "      <td>1456.270020</td>\n",
       "      <td>1465.849976</td>\n",
       "      <td>1465.849976</td>\n",
       "      <td>1525200</td>\n",
       "    </tr>\n",
       "    <tr>\n",
       "      <th>249</th>\n",
       "      <td>2020-06-11</td>\n",
       "      <td>1442.479980</td>\n",
       "      <td>1454.474976</td>\n",
       "      <td>1402.000000</td>\n",
       "      <td>1403.839966</td>\n",
       "      <td>1403.839966</td>\n",
       "      <td>1991300</td>\n",
       "    </tr>\n",
       "    <tr>\n",
       "      <th>250</th>\n",
       "      <td>2020-06-12</td>\n",
       "      <td>1428.489990</td>\n",
       "      <td>1437.000000</td>\n",
       "      <td>1386.020020</td>\n",
       "      <td>1413.180054</td>\n",
       "      <td>1413.180054</td>\n",
       "      <td>1944200</td>\n",
       "    </tr>\n",
       "    <tr>\n",
       "      <th>251</th>\n",
       "      <td>2020-06-15</td>\n",
       "      <td>1390.800049</td>\n",
       "      <td>1424.800049</td>\n",
       "      <td>1387.920044</td>\n",
       "      <td>1419.849976</td>\n",
       "      <td>1419.849976</td>\n",
       "      <td>1503900</td>\n",
       "    </tr>\n",
       "  </tbody>\n",
       "</table>\n",
       "</div>"
      ],
      "text/plain": [
       "          Date         Open         High          Low        Close  \\\n",
       "247 2020-06-09  1445.359985  1468.000000  1443.209961  1456.160034   \n",
       "248 2020-06-10  1459.540039  1474.259033  1456.270020  1465.849976   \n",
       "249 2020-06-11  1442.479980  1454.474976  1402.000000  1403.839966   \n",
       "250 2020-06-12  1428.489990  1437.000000  1386.020020  1413.180054   \n",
       "251 2020-06-15  1390.800049  1424.800049  1387.920044  1419.849976   \n",
       "\n",
       "       Adj Close   Volume  \n",
       "247  1456.160034  1409200  \n",
       "248  1465.849976  1525200  \n",
       "249  1403.839966  1991300  \n",
       "250  1413.180054  1944200  \n",
       "251  1419.849976  1503900  "
      ]
     },
     "execution_count": 60,
     "metadata": {},
     "output_type": "execute_result"
    }
   ],
   "source": [
    "# elimiar el ultimo día del df\n",
    "df = df.iloc[ :252]\n",
    "df.tail()"
   ]
  },
  {
   "cell_type": "code",
   "execution_count": 61,
   "metadata": {},
   "outputs": [],
   "source": [
    "df['days'] = df.Date.dt.day"
   ]
  },
  {
   "cell_type": "code",
   "execution_count": 62,
   "metadata": {},
   "outputs": [],
   "source": [
    "X = df.days.values\n",
    "y = df['Adj Close'].values\n",
    "X = X.reshape(-1, 1)"
   ]
  },
  {
   "cell_type": "markdown",
   "metadata": {},
   "source": [
    "### Crear Modelo\n",
    "1. [x] SVR Linear\n",
    "1. [x] SVR poly\n",
    "1. [x] SVR rbf"
   ]
  },
  {
   "cell_type": "code",
   "execution_count": 63,
   "metadata": {},
   "outputs": [
    {
     "data": {
      "text/plain": [
       "SVR(C=1000.0, cache_size=200, coef0=0.0, degree=3, epsilon=0.1,\n",
       "  gamma='auto_deprecated', kernel='linear', max_iter=-1, shrinking=True,\n",
       "  tol=0.001, verbose=False)"
      ]
     },
     "execution_count": 63,
     "metadata": {},
     "output_type": "execute_result"
    }
   ],
   "source": [
    "linear = SVR(kernel='linear',C= 1000.0)\n",
    "linear.fit(X, y)"
   ]
  },
  {
   "cell_type": "code",
   "execution_count": 64,
   "metadata": {},
   "outputs": [
    {
     "data": {
      "text/plain": [
       "SVR(C=1.0, cache_size=200, coef0=0.0, degree=4, epsilon=0.1, gamma='scale',\n",
       "  kernel='poly', max_iter=-1, shrinking=True, tol=0.001, verbose=False)"
      ]
     },
     "execution_count": 64,
     "metadata": {},
     "output_type": "execute_result"
    }
   ],
   "source": [
    "poly = SVR(kernel='poly',degree=4, gamma= 'scale')\n",
    "poly.fit(X, y)"
   ]
  },
  {
   "cell_type": "code",
   "execution_count": 65,
   "metadata": {},
   "outputs": [
    {
     "data": {
      "text/plain": [
       "SVR(C=1000.0, cache_size=200, coef0=0.0, degree=3, epsilon=0.1, gamma=0.15,\n",
       "  kernel='rbf', max_iter=-1, shrinking=True, tol=0.001, verbose=False)"
      ]
     },
     "execution_count": 65,
     "metadata": {},
     "output_type": "execute_result"
    }
   ],
   "source": [
    "rbf = SVR( gamma=0.15, C= 1000.0)\n",
    "rbf.fit(X, y)"
   ]
  },
  {
   "cell_type": "markdown",
   "metadata": {},
   "source": [
    "### Predecir el precio"
   ]
  },
  {
   "cell_type": "code",
   "execution_count": 66,
   "metadata": {},
   "outputs": [],
   "source": [
    "#day = actual_price.Date.dt.day\n",
    "#day = day.values\n",
    "#day"
   ]
  },
  {
   "cell_type": "code",
   "execution_count": 67,
   "metadata": {},
   "outputs": [
    {
     "name": "stdout",
     "output_type": "stream",
     "text": [
      "rbf: [1261.19020766]\n",
      "linear_Kernel: [1251.7159885]\n",
      "poly_Kernel: [1260.13416525]\n"
     ]
    }
   ],
   "source": [
    "day = [[30]]\n",
    "print('rbf:',rbf.predict(day))\n",
    "print('linear_Kernel:',linear.predict(day))\n",
    "print('poly_Kernel:',poly.predict(day))"
   ]
  },
  {
   "cell_type": "code",
   "execution_count": 70,
   "metadata": {},
   "outputs": [
    {
     "name": "stdout",
     "output_type": "stream",
     "text": [
      "precio actual: \n"
     ]
    },
    {
     "data": {
      "text/plain": [
       "252    1442.72\n",
       "Name: Adj Close, dtype: float64"
      ]
     },
     "execution_count": 70,
     "metadata": {},
     "output_type": "execute_result"
    }
   ],
   "source": [
    "print('precio actual: ')\n",
    "round(actual_price['Adj Close'],2)"
   ]
  }
 ],
 "metadata": {
  "kernelspec": {
   "display_name": "Python 3",
   "language": "python",
   "name": "python3"
  },
  "language_info": {
   "codemirror_mode": {
    "name": "ipython",
    "version": 3
   },
   "file_extension": ".py",
   "mimetype": "text/x-python",
   "name": "python",
   "nbconvert_exporter": "python",
   "pygments_lexer": "ipython3",
   "version": "3.7.3"
  }
 },
 "nbformat": 4,
 "nbformat_minor": 2
}
